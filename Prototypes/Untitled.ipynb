{
 "cells": [
  {
   "cell_type": "markdown",
   "id": "0bae6d31",
   "metadata": {},
   "source": [
    "# Distribute method prototype\n",
    "\n",
    "This notebook is to prototype a decorator that takes in a particular method from a cell class as well as \"global\" input data and then breaks down the global input data, feeds it into the cell method, collects the result, and returns the output into global memory.\n",
    "\n",
    "In the context of the physics simulator, this will be implemented using the distributor class, which contains a collection of cell objects. Global data about the particles is passed to the distributor, which then breaks up and assigns the data to cells. The cells compute the desired outputs and pass back to the distributor, which then reassigns the output to global memory."
   ]
  },
  {
   "cell_type": "code",
   "execution_count": 1,
   "id": "3b061f30",
   "metadata": {},
   "outputs": [],
   "source": [
    "import numpy as np"
   ]
  },
  {
   "cell_type": "code",
   "execution_count": null,
   "id": "91f072d4",
   "metadata": {},
   "outputs": [],
   "source": [
    "class Cell:\n",
    "    def __init__(self):\n",
    "        self.X_c = None\n",
    "        self.X_n = None\n",
    "        \n",
    "        self.V_c = None\n",
    "        self.V_n = None\n",
    "    \n",
    "    def add(self):\n",
    "        pass\n",
    "    \n",
    "    def\n",
    "    \n",
    "class Distributor:\n",
    "    def __init__(self,X,V):\n",
    "        self.X = X\n",
    "        self.V = V\n",
    "        \n",
    "        num_pts, dim = X.shape\n",
    "        cuts = np.arange(0,num_pts,2)\n",
    "        self.cuts = np.append(cuts,num_pts-1)\n",
    "        cells = {i: Cell() for i in range(num_pts)}\n",
    "        self.num_nonempty_cells = int(num_pts / 2) +1\n",
    "        \n",
    "    def distribute(self,cell_function,*args):\n",
    "        for i \n",
    "        \n",
    "        "
   ]
  }
 ],
 "metadata": {
  "kernelspec": {
   "display_name": "Python 3 (ipykernel)",
   "language": "python",
   "name": "python3"
  },
  "language_info": {
   "codemirror_mode": {
    "name": "ipython",
    "version": 3
   },
   "file_extension": ".py",
   "mimetype": "text/x-python",
   "name": "python",
   "nbconvert_exporter": "python",
   "pygments_lexer": "ipython3",
   "version": "3.9.18"
  }
 },
 "nbformat": 4,
 "nbformat_minor": 5
}
